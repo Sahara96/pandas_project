{
 "cells": [
  {
   "cell_type": "markdown",
   "metadata": {},
   "source": [
    "# Project: California Crime Data Analysis"
   ]
  },
  {
   "cell_type": "raw",
   "metadata": {},
   "source": [
    "This dataset contains 336 crime statistics for all cities with populations of 10,000 and more in California. The file is a comma delimiter format, which is a text file with commas placed between each variable. Below is a list of the variables in order.\n",
    "\n",
    "Variables\t\t\t\t\t\tDescription\n",
    "City_name\t\t\t\t\t\tCity name\n",
    "Popul\t\t\t\t\t\t\tPopulation\n",
    "Cri_index\t\t\t\t\t\tCrime index (All crimes except arson)\n",
    "tot_cri_index\t\t\t\t    Total crime index (All crimes including arson)\n",
    "Mur_mans\t\t\t\t\t\tMurder and non-negligent manslaughter\n",
    "For_rape\t\t\t\t\t\tForcible rape\n",
    "Robbery\t\t\t\t\t\t    Robbery\n",
    "Agg_assault\t\t\t\t\t\tAggravated assault\n",
    "Burglary\t\t\t\t\t\tBurglary\n",
    "Lar_theft\t\t\t\t\t\tLarceny-theft\n",
    "Moto_theft\t\t\t\t\t\tMotor vehicle theft\n",
    "Arson\t\t\t\t\t\t\tArson\n",
    "\n",
    "\n",
    "The questions based on the above datasets are as follows:\n",
    "\n",
    "1.\tImport the dataset califor_crime.\n",
    "2.\tGet the information of the dataset in one step.\n",
    "3.\tWhat is the population of California? \n",
    "4.\tCalculate the median population of California (specify city name)? \n",
    "5.\tCalculate the mean population of California?\n",
    "6.\tCompare mean and median. Comment which is the better measure of the central tendency of the population.\n",
    "7.  Find the city with maximum/minimun Lar_theft case\n",
    "8.  Find the city with maximum/minimun Population\n",
    "9.  Top 10 countries having maximum rape cases\n",
    "10. Top 10 countries having maximum Robbery cases\n",
    "11. Top 10 countries having maximum/minimum Motor vehicle theft cases.\n",
    "12.\tList the first five cities, where total crime index is high/less\n",
    "13.\tWhat is the percentage of different crimes in the California?\n",
    "14.\tWhich is the most frequently occurring crime in California? \n",
    "15.\tWhich crime is frequently occuring when population is less than 5,00,000. Add other insight, if any.  \n"
   ]
  },
  {
   "cell_type": "code",
   "execution_count": 4,
   "metadata": {},
   "outputs": [
    {
     "data": {
      "text/html": [
       "<div>\n",
       "<style scoped>\n",
       "    .dataframe tbody tr th:only-of-type {\n",
       "        vertical-align: middle;\n",
       "    }\n",
       "\n",
       "    .dataframe tbody tr th {\n",
       "        vertical-align: top;\n",
       "    }\n",
       "\n",
       "    .dataframe thead th {\n",
       "        text-align: right;\n",
       "    }\n",
       "</style>\n",
       "<table border=\"1\" class=\"dataframe\">\n",
       "  <thead>\n",
       "    <tr style=\"text-align: right;\">\n",
       "      <th></th>\n",
       "      <th>City_name</th>\n",
       "      <th>Popul</th>\n",
       "      <th>Cri_index</th>\n",
       "      <th>tot_cri_index</th>\n",
       "      <th>Mur_mans</th>\n",
       "      <th>For_rape</th>\n",
       "      <th>Robbery</th>\n",
       "      <th>Agg_assault</th>\n",
       "      <th>Burglary</th>\n",
       "      <th>Lar_theft</th>\n",
       "      <th>Moto_theft</th>\n",
       "      <th>Arson</th>\n",
       "    </tr>\n",
       "  </thead>\n",
       "  <tbody>\n",
       "    <tr>\n",
       "      <td>0</td>\n",
       "      <td>Adelanto</td>\n",
       "      <td>15515</td>\n",
       "      <td>361</td>\n",
       "      <td>363</td>\n",
       "      <td>2</td>\n",
       "      <td>2</td>\n",
       "      <td>5</td>\n",
       "      <td>117</td>\n",
       "      <td>120</td>\n",
       "      <td>68</td>\n",
       "      <td>47</td>\n",
       "      <td>2</td>\n",
       "    </tr>\n",
       "    <tr>\n",
       "      <td>1</td>\n",
       "      <td>Agoura Hills</td>\n",
       "      <td>21127</td>\n",
       "      <td>290</td>\n",
       "      <td>290</td>\n",
       "      <td>0</td>\n",
       "      <td>3</td>\n",
       "      <td>5</td>\n",
       "      <td>48</td>\n",
       "      <td>64</td>\n",
       "      <td>155</td>\n",
       "      <td>15</td>\n",
       "      <td>0</td>\n",
       "    </tr>\n",
       "    <tr>\n",
       "      <td>2</td>\n",
       "      <td>Alameda</td>\n",
       "      <td>79848</td>\n",
       "      <td>2933</td>\n",
       "      <td>2950</td>\n",
       "      <td>0</td>\n",
       "      <td>12</td>\n",
       "      <td>91</td>\n",
       "      <td>146</td>\n",
       "      <td>323</td>\n",
       "      <td>2022</td>\n",
       "      <td>339</td>\n",
       "      <td>17</td>\n",
       "    </tr>\n",
       "    <tr>\n",
       "      <td>3</td>\n",
       "      <td>Albany</td>\n",
       "      <td>17457</td>\n",
       "      <td>736</td>\n",
       "      <td>742</td>\n",
       "      <td>0</td>\n",
       "      <td>1</td>\n",
       "      <td>37</td>\n",
       "      <td>12</td>\n",
       "      <td>169</td>\n",
       "      <td>462</td>\n",
       "      <td>55</td>\n",
       "      <td>6</td>\n",
       "    </tr>\n",
       "    <tr>\n",
       "      <td>4</td>\n",
       "      <td>Alhambra</td>\n",
       "      <td>85356</td>\n",
       "      <td>2042</td>\n",
       "      <td>2057</td>\n",
       "      <td>4</td>\n",
       "      <td>3</td>\n",
       "      <td>165</td>\n",
       "      <td>97</td>\n",
       "      <td>372</td>\n",
       "      <td>1114</td>\n",
       "      <td>287</td>\n",
       "      <td>15</td>\n",
       "    </tr>\n",
       "  </tbody>\n",
       "</table>\n",
       "</div>"
      ],
      "text/plain": [
       "      City_name  Popul  Cri_index  tot_cri_index  Mur_mans  For_rape  Robbery  \\\n",
       "0      Adelanto  15515        361            363         2         2        5   \n",
       "1  Agoura Hills  21127        290            290         0         3        5   \n",
       "2       Alameda  79848       2933           2950         0        12       91   \n",
       "3        Albany  17457        736            742         0         1       37   \n",
       "4      Alhambra  85356       2042           2057         4         3      165   \n",
       "\n",
       "   Agg_assault  Burglary  Lar_theft  Moto_theft  Arson  \n",
       "0          117       120         68          47      2  \n",
       "1           48        64        155          15      0  \n",
       "2          146       323       2022         339     17  \n",
       "3           12       169        462          55      6  \n",
       "4           97       372       1114         287     15  "
      ]
     },
     "execution_count": 4,
     "metadata": {},
     "output_type": "execute_result"
    }
   ],
   "source": [
    "#Import the dataset califor_crime.\n",
    "import pandas as pd\n",
    "import numpy as np\n",
    "df = pd.read_csv(r\"C:\\Users\\itspark\\Documents\\Analytics\\dataset/califcrime.csv\")\n",
    "df.head()"
   ]
  },
  {
   "cell_type": "code",
   "execution_count": 5,
   "metadata": {},
   "outputs": [
    {
     "name": "stdout",
     "output_type": "stream",
     "text": [
      "<class 'pandas.core.frame.DataFrame'>\n",
      "RangeIndex: 335 entries, 0 to 334\n",
      "Data columns (total 12 columns):\n",
      "City_name        335 non-null object\n",
      "Popul            335 non-null int64\n",
      "Cri_index        335 non-null int64\n",
      "tot_cri_index    335 non-null int64\n",
      "Mur_mans         335 non-null int64\n",
      "For_rape         335 non-null int64\n",
      "Robbery          335 non-null int64\n",
      "Agg_assault      335 non-null int64\n",
      "Burglary         335 non-null int64\n",
      "Lar_theft        335 non-null int64\n",
      "Moto_theft       335 non-null int64\n",
      "Arson            335 non-null int64\n",
      "dtypes: int64(11), object(1)\n",
      "memory usage: 31.5+ KB\n"
     ]
    }
   ],
   "source": [
    "#Get the information of the dataset in one step. use info()\n",
    "df.info()\n"
   ]
  },
  {
   "cell_type": "code",
   "execution_count": 6,
   "metadata": {},
   "outputs": [
    {
     "data": {
      "text/plain": [
       "25865464"
      ]
     },
     "execution_count": 6,
     "metadata": {},
     "output_type": "execute_result"
    }
   ],
   "source": [
    "#What is the population of California? use sum() after selecting popul column\n",
    "df['Popul'].sum()\n"
   ]
  },
  {
   "cell_type": "code",
   "execution_count": 7,
   "metadata": {},
   "outputs": [
    {
     "data": {
      "text/plain": [
       "25865464"
      ]
     },
     "execution_count": 7,
     "metadata": {},
     "output_type": "execute_result"
    }
   ],
   "source": [
    "#another way\n",
    "df.Popul.sum()\n"
   ]
  },
  {
   "cell_type": "code",
   "execution_count": 9,
   "metadata": {},
   "outputs": [
    {
     "data": {
      "text/plain": [
       "73    Danville\n",
       "Name: City_name, dtype: object"
      ]
     },
     "execution_count": 9,
     "metadata": {},
     "output_type": "execute_result"
    }
   ],
   "source": [
    "#Calculate the median population of California (specify city name)? \n",
    "df[df.Popul==df.Popul.median()]['City_name']"
   ]
  },
  {
   "cell_type": "code",
   "execution_count": 10,
   "metadata": {},
   "outputs": [
    {
     "data": {
      "text/plain": [
       "'Danville'"
      ]
     },
     "execution_count": 10,
     "metadata": {},
     "output_type": "execute_result"
    }
   ],
   "source": [
    "#or\n",
    "df[df.Popul==df.Popul.median()]['City_name'].iloc[0]"
   ]
  },
  {
   "cell_type": "code",
   "execution_count": 11,
   "metadata": {},
   "outputs": [
    {
     "data": {
      "text/plain": [
       "77210.34029850746"
      ]
     },
     "execution_count": 11,
     "metadata": {},
     "output_type": "execute_result"
    }
   ],
   "source": [
    "#Calculate the mean population of California?\n",
    "df.Popul.mean()"
   ]
  },
  {
   "cell_type": "code",
   "execution_count": 12,
   "metadata": {},
   "outputs": [
    {
     "name": "stdout",
     "output_type": "stream",
     "text": [
      "77210.34029850746\n",
      "40843.0\n"
     ]
    }
   ],
   "source": [
    "#Compare mean and median. Comment which is the better measure of the central tendency of the population.\n",
    "print(df.Popul.mean())\n",
    "print(df.Popul.median())"
   ]
  },
  {
   "cell_type": "code",
   "execution_count": 14,
   "metadata": {},
   "outputs": [
    {
     "data": {
      "text/plain": [
       "'Los Angeles              '"
      ]
     },
     "execution_count": 14,
     "metadata": {},
     "output_type": "execute_result"
    }
   ],
   "source": [
    "#Find the city with maximum/minimun Lar_theft case\n",
    "df.loc[df['Lar_theft'].idxmax()][0]\n"
   ]
  },
  {
   "cell_type": "code",
   "execution_count": 15,
   "metadata": {},
   "outputs": [
    {
     "data": {
      "text/plain": [
       "'Hillsborough'"
      ]
     },
     "execution_count": 15,
     "metadata": {},
     "output_type": "execute_result"
    }
   ],
   "source": [
    "df.loc[df['Lar_theft'].idxmin()][0]\n"
   ]
  },
  {
   "cell_type": "code",
   "execution_count": 16,
   "metadata": {},
   "outputs": [
    {
     "data": {
      "text/plain": [
       "'Los Angeles              '"
      ]
     },
     "execution_count": 16,
     "metadata": {},
     "output_type": "execute_result"
    }
   ],
   "source": [
    "#Find the city with maximum/minimun Population\n",
    "df.loc[df['Popul'].idxmax()][0]\n"
   ]
  },
  {
   "cell_type": "code",
   "execution_count": 17,
   "metadata": {},
   "outputs": [
    {
     "data": {
      "text/plain": [
       "'Patterson'"
      ]
     },
     "execution_count": 17,
     "metadata": {},
     "output_type": "execute_result"
    }
   ],
   "source": [
    "df.loc[df['Popul'].idxmin()][0]\n"
   ]
  },
  {
   "cell_type": "code",
   "execution_count": 19,
   "metadata": {},
   "outputs": [
    {
     "data": {
      "text/html": [
       "<div>\n",
       "<style scoped>\n",
       "    .dataframe tbody tr th:only-of-type {\n",
       "        vertical-align: middle;\n",
       "    }\n",
       "\n",
       "    .dataframe tbody tr th {\n",
       "        vertical-align: top;\n",
       "    }\n",
       "\n",
       "    .dataframe thead th {\n",
       "        text-align: right;\n",
       "    }\n",
       "</style>\n",
       "<table border=\"1\" class=\"dataframe\">\n",
       "  <thead>\n",
       "    <tr style=\"text-align: right;\">\n",
       "      <th></th>\n",
       "      <th>City_name</th>\n",
       "      <th>For_rape</th>\n",
       "    </tr>\n",
       "  </thead>\n",
       "  <tbody>\n",
       "    <tr>\n",
       "      <td>157</td>\n",
       "      <td>Los Angeles</td>\n",
       "      <td>1288</td>\n",
       "    </tr>\n",
       "    <tr>\n",
       "      <td>254</td>\n",
       "      <td>San Diego</td>\n",
       "      <td>355</td>\n",
       "    </tr>\n",
       "    <tr>\n",
       "      <td>261</td>\n",
       "      <td>San Jose</td>\n",
       "      <td>347</td>\n",
       "    </tr>\n",
       "    <tr>\n",
       "      <td>196</td>\n",
       "      <td>Oakland</td>\n",
       "      <td>305</td>\n",
       "    </tr>\n",
       "    <tr>\n",
       "      <td>257</td>\n",
       "      <td>San Francisco</td>\n",
       "      <td>193</td>\n",
       "    </tr>\n",
       "    <tr>\n",
       "      <td>99</td>\n",
       "      <td>Fresno</td>\n",
       "      <td>160</td>\n",
       "    </tr>\n",
       "    <tr>\n",
       "      <td>247</td>\n",
       "      <td>Sacramento</td>\n",
       "      <td>143</td>\n",
       "    </tr>\n",
       "    <tr>\n",
       "      <td>298</td>\n",
       "      <td>Stockton</td>\n",
       "      <td>130</td>\n",
       "    </tr>\n",
       "    <tr>\n",
       "      <td>154</td>\n",
       "      <td>Long Beach</td>\n",
       "      <td>119</td>\n",
       "    </tr>\n",
       "    <tr>\n",
       "      <td>271</td>\n",
       "      <td>Santa Ana</td>\n",
       "      <td>97</td>\n",
       "    </tr>\n",
       "  </tbody>\n",
       "</table>\n",
       "</div>"
      ],
      "text/plain": [
       "                     City_name  For_rape\n",
       "157  Los Angeles                    1288\n",
       "254       San Diego                  355\n",
       "261                   San Jose       347\n",
       "196                    Oakland       305\n",
       "257              San Francisco       193\n",
       "99                      Fresno       160\n",
       "247                 Sacramento       143\n",
       "298                   Stockton       130\n",
       "154                 Long Beach       119\n",
       "271                  Santa Ana        97"
      ]
     },
     "execution_count": 19,
     "metadata": {},
     "output_type": "execute_result"
    }
   ],
   "source": [
    "#Top 10 countries having maximum rape cases\n",
    "max_rape = df.sort_values(by='For_rape',ascending=False).head(10)\n",
    "max_rape[['City_name','For_rape']]"
   ]
  },
  {
   "cell_type": "code",
   "execution_count": 20,
   "metadata": {},
   "outputs": [
    {
     "data": {
      "text/html": [
       "<div>\n",
       "<style scoped>\n",
       "    .dataframe tbody tr th:only-of-type {\n",
       "        vertical-align: middle;\n",
       "    }\n",
       "\n",
       "    .dataframe tbody tr th {\n",
       "        vertical-align: top;\n",
       "    }\n",
       "\n",
       "    .dataframe thead th {\n",
       "        text-align: right;\n",
       "    }\n",
       "</style>\n",
       "<table border=\"1\" class=\"dataframe\">\n",
       "  <thead>\n",
       "    <tr style=\"text-align: right;\">\n",
       "      <th></th>\n",
       "      <th>City_name</th>\n",
       "      <th>Robbery</th>\n",
       "    </tr>\n",
       "  </thead>\n",
       "  <tbody>\n",
       "    <tr>\n",
       "      <td>157</td>\n",
       "      <td>Los Angeles</td>\n",
       "      <td>14411</td>\n",
       "    </tr>\n",
       "    <tr>\n",
       "      <td>257</td>\n",
       "      <td>San Francisco</td>\n",
       "      <td>3475</td>\n",
       "    </tr>\n",
       "    <tr>\n",
       "      <td>196</td>\n",
       "      <td>Oakland</td>\n",
       "      <td>2190</td>\n",
       "    </tr>\n",
       "    <tr>\n",
       "      <td>254</td>\n",
       "      <td>San Diego</td>\n",
       "      <td>1812</td>\n",
       "    </tr>\n",
       "    <tr>\n",
       "      <td>154</td>\n",
       "      <td>Long Beach</td>\n",
       "      <td>1566</td>\n",
       "    </tr>\n",
       "    <tr>\n",
       "      <td>247</td>\n",
       "      <td>Sacramento</td>\n",
       "      <td>1450</td>\n",
       "    </tr>\n",
       "    <tr>\n",
       "      <td>99</td>\n",
       "      <td>Fresno</td>\n",
       "      <td>1268</td>\n",
       "    </tr>\n",
       "    <tr>\n",
       "      <td>298</td>\n",
       "      <td>Stockton</td>\n",
       "      <td>904</td>\n",
       "    </tr>\n",
       "    <tr>\n",
       "      <td>271</td>\n",
       "      <td>Santa Ana</td>\n",
       "      <td>865</td>\n",
       "    </tr>\n",
       "    <tr>\n",
       "      <td>261</td>\n",
       "      <td>San Jose</td>\n",
       "      <td>726</td>\n",
       "    </tr>\n",
       "  </tbody>\n",
       "</table>\n",
       "</div>"
      ],
      "text/plain": [
       "                     City_name  Robbery\n",
       "157  Los Angeles                  14411\n",
       "257              San Francisco     3475\n",
       "196                    Oakland     2190\n",
       "254       San Diego                1812\n",
       "154                 Long Beach     1566\n",
       "247                 Sacramento     1450\n",
       "99                      Fresno     1268\n",
       "298                   Stockton      904\n",
       "271                  Santa Ana      865\n",
       "261                   San Jose      726"
      ]
     },
     "execution_count": 20,
     "metadata": {},
     "output_type": "execute_result"
    }
   ],
   "source": [
    "#Top 10 countries having maximum Robbery cases\n",
    "max_robbery = df.sort_values(by='Robbery',ascending=False).head(10)\n",
    "max_robbery[['City_name','Robbery']]"
   ]
  },
  {
   "cell_type": "code",
   "execution_count": 21,
   "metadata": {},
   "outputs": [
    {
     "data": {
      "text/html": [
       "<div>\n",
       "<style scoped>\n",
       "    .dataframe tbody tr th:only-of-type {\n",
       "        vertical-align: middle;\n",
       "    }\n",
       "\n",
       "    .dataframe tbody tr th {\n",
       "        vertical-align: top;\n",
       "    }\n",
       "\n",
       "    .dataframe thead th {\n",
       "        text-align: right;\n",
       "    }\n",
       "</style>\n",
       "<table border=\"1\" class=\"dataframe\">\n",
       "  <thead>\n",
       "    <tr style=\"text-align: right;\">\n",
       "      <th></th>\n",
       "      <th>City_name</th>\n",
       "      <th>Moto_theft</th>\n",
       "    </tr>\n",
       "  </thead>\n",
       "  <tbody>\n",
       "    <tr>\n",
       "      <td>157</td>\n",
       "      <td>Los Angeles</td>\n",
       "      <td>24677</td>\n",
       "    </tr>\n",
       "    <tr>\n",
       "      <td>254</td>\n",
       "      <td>San Diego</td>\n",
       "      <td>9491</td>\n",
       "    </tr>\n",
       "    <tr>\n",
       "      <td>257</td>\n",
       "      <td>San Francisco</td>\n",
       "      <td>5977</td>\n",
       "    </tr>\n",
       "    <tr>\n",
       "      <td>196</td>\n",
       "      <td>Oakland</td>\n",
       "      <td>4788</td>\n",
       "    </tr>\n",
       "    <tr>\n",
       "      <td>99</td>\n",
       "      <td>Fresno</td>\n",
       "      <td>4643</td>\n",
       "    </tr>\n",
       "    <tr>\n",
       "      <td>247</td>\n",
       "      <td>Sacramento</td>\n",
       "      <td>4460</td>\n",
       "    </tr>\n",
       "    <tr>\n",
       "      <td>154</td>\n",
       "      <td>Long Beach</td>\n",
       "      <td>3361</td>\n",
       "    </tr>\n",
       "    <tr>\n",
       "      <td>261</td>\n",
       "      <td>San Jose</td>\n",
       "      <td>2860</td>\n",
       "    </tr>\n",
       "    <tr>\n",
       "      <td>271</td>\n",
       "      <td>Santa Ana</td>\n",
       "      <td>2287</td>\n",
       "    </tr>\n",
       "    <tr>\n",
       "      <td>298</td>\n",
       "      <td>Stockton</td>\n",
       "      <td>2140</td>\n",
       "    </tr>\n",
       "  </tbody>\n",
       "</table>\n",
       "</div>"
      ],
      "text/plain": [
       "                     City_name  Moto_theft\n",
       "157  Los Angeles                     24677\n",
       "254       San Diego                   9491\n",
       "257              San Francisco        5977\n",
       "196                    Oakland        4788\n",
       "99                      Fresno        4643\n",
       "247                 Sacramento        4460\n",
       "154                 Long Beach        3361\n",
       "261                   San Jose        2860\n",
       "271                  Santa Ana        2287\n",
       "298                   Stockton        2140"
      ]
     },
     "execution_count": 21,
     "metadata": {},
     "output_type": "execute_result"
    }
   ],
   "source": [
    "#Top 10 countries having maximum/minimum Motor vehicle theft cases.\n",
    "max_mot = df.sort_values(by='Moto_theft',ascending=False).head(10)\n",
    "max_mot[['City_name','Moto_theft']]"
   ]
  },
  {
   "cell_type": "code",
   "execution_count": 22,
   "metadata": {},
   "outputs": [
    {
     "data": {
      "text/html": [
       "<div>\n",
       "<style scoped>\n",
       "    .dataframe tbody tr th:only-of-type {\n",
       "        vertical-align: middle;\n",
       "    }\n",
       "\n",
       "    .dataframe tbody tr th {\n",
       "        vertical-align: top;\n",
       "    }\n",
       "\n",
       "    .dataframe thead th {\n",
       "        text-align: right;\n",
       "    }\n",
       "</style>\n",
       "<table border=\"1\" class=\"dataframe\">\n",
       "  <thead>\n",
       "    <tr style=\"text-align: right;\">\n",
       "      <th></th>\n",
       "      <th>City_name</th>\n",
       "      <th>Moto_theft</th>\n",
       "    </tr>\n",
       "  </thead>\n",
       "  <tbody>\n",
       "    <tr>\n",
       "      <td>301</td>\n",
       "      <td>Susanville</td>\n",
       "      <td>4</td>\n",
       "    </tr>\n",
       "    <tr>\n",
       "      <td>121</td>\n",
       "      <td>Hillsborough</td>\n",
       "      <td>5</td>\n",
       "    </tr>\n",
       "    <tr>\n",
       "      <td>16</td>\n",
       "      <td>Avenal</td>\n",
       "      <td>5</td>\n",
       "    </tr>\n",
       "    <tr>\n",
       "      <td>288</td>\n",
       "      <td>Sierra Madre</td>\n",
       "      <td>5</td>\n",
       "    </tr>\n",
       "    <tr>\n",
       "      <td>266</td>\n",
       "      <td>San Marino</td>\n",
       "      <td>7</td>\n",
       "    </tr>\n",
       "    <tr>\n",
       "      <td>44</td>\n",
       "      <td>Carpinteria</td>\n",
       "      <td>7</td>\n",
       "    </tr>\n",
       "    <tr>\n",
       "      <td>283</td>\n",
       "      <td>Scotts Valley</td>\n",
       "      <td>8</td>\n",
       "    </tr>\n",
       "    <tr>\n",
       "      <td>42</td>\n",
       "      <td>Capitola</td>\n",
       "      <td>8</td>\n",
       "    </tr>\n",
       "    <tr>\n",
       "      <td>108</td>\n",
       "      <td>Greenfield</td>\n",
       "      <td>8</td>\n",
       "    </tr>\n",
       "    <tr>\n",
       "      <td>200</td>\n",
       "      <td>Orinda</td>\n",
       "      <td>9</td>\n",
       "    </tr>\n",
       "  </tbody>\n",
       "</table>\n",
       "</div>"
      ],
      "text/plain": [
       "         City_name  Moto_theft\n",
       "301     Susanville           4\n",
       "121   Hillsborough           5\n",
       "16          Avenal           5\n",
       "288   Sierra Madre           5\n",
       "266     San Marino           7\n",
       "44     Carpinteria           7\n",
       "283  Scotts Valley           8\n",
       "42        Capitola           8\n",
       "108     Greenfield           8\n",
       "200         Orinda           9"
      ]
     },
     "execution_count": 22,
     "metadata": {},
     "output_type": "execute_result"
    }
   ],
   "source": [
    "min_mot = df.sort_values(by='Moto_theft',ascending=True).head(10)\n",
    "min_mot[['City_name','Moto_theft']]"
   ]
  },
  {
   "cell_type": "code",
   "execution_count": 27,
   "metadata": {},
   "outputs": [
    {
     "data": {
      "text/html": [
       "<div>\n",
       "<style scoped>\n",
       "    .dataframe tbody tr th:only-of-type {\n",
       "        vertical-align: middle;\n",
       "    }\n",
       "\n",
       "    .dataframe tbody tr th {\n",
       "        vertical-align: top;\n",
       "    }\n",
       "\n",
       "    .dataframe thead th {\n",
       "        text-align: right;\n",
       "    }\n",
       "</style>\n",
       "<table border=\"1\" class=\"dataframe\">\n",
       "  <thead>\n",
       "    <tr style=\"text-align: right;\">\n",
       "      <th></th>\n",
       "      <th>City_name</th>\n",
       "      <th>tot_cri_index</th>\n",
       "    </tr>\n",
       "  </thead>\n",
       "  <tbody>\n",
       "    <tr>\n",
       "      <td>157</td>\n",
       "      <td>Los Angeles</td>\n",
       "      <td>169802</td>\n",
       "    </tr>\n",
       "    <tr>\n",
       "      <td>254</td>\n",
       "      <td>San Diego</td>\n",
       "      <td>49817</td>\n",
       "    </tr>\n",
       "    <tr>\n",
       "      <td>257</td>\n",
       "      <td>San Francisco</td>\n",
       "      <td>43597</td>\n",
       "    </tr>\n",
       "    <tr>\n",
       "      <td>196</td>\n",
       "      <td>Oakland</td>\n",
       "      <td>31402</td>\n",
       "    </tr>\n",
       "    <tr>\n",
       "      <td>99</td>\n",
       "      <td>Fresno</td>\n",
       "      <td>29577</td>\n",
       "    </tr>\n",
       "  </tbody>\n",
       "</table>\n",
       "</div>"
      ],
      "text/plain": [
       "                     City_name  tot_cri_index\n",
       "157  Los Angeles                       169802\n",
       "254       San Diego                     49817\n",
       "257              San Francisco          43597\n",
       "196                    Oakland          31402\n",
       "99                      Fresno          29577"
      ]
     },
     "execution_count": 27,
     "metadata": {},
     "output_type": "execute_result"
    }
   ],
   "source": [
    "#List the first five cities, where total crime index is high/less\n",
    "high_crime = df.sort_values(by='tot_cri_index',ascending=False).head(5)\n",
    "high_crime[['City_name','tot_cri_index']]"
   ]
  },
  {
   "cell_type": "code",
   "execution_count": 28,
   "metadata": {},
   "outputs": [
    {
     "data": {
      "text/html": [
       "<div>\n",
       "<style scoped>\n",
       "    .dataframe tbody tr th:only-of-type {\n",
       "        vertical-align: middle;\n",
       "    }\n",
       "\n",
       "    .dataframe tbody tr th {\n",
       "        vertical-align: top;\n",
       "    }\n",
       "\n",
       "    .dataframe thead th {\n",
       "        text-align: right;\n",
       "    }\n",
       "</style>\n",
       "<table border=\"1\" class=\"dataframe\">\n",
       "  <thead>\n",
       "    <tr style=\"text-align: right;\">\n",
       "      <th></th>\n",
       "      <th>City_name</th>\n",
       "      <th>tot_cri_index</th>\n",
       "    </tr>\n",
       "  </thead>\n",
       "  <tbody>\n",
       "    <tr>\n",
       "      <td>219</td>\n",
       "      <td>Piedmont</td>\n",
       "      <td>180</td>\n",
       "    </tr>\n",
       "    <tr>\n",
       "      <td>209</td>\n",
       "      <td>Palos Verdes Estates</td>\n",
       "      <td>135</td>\n",
       "    </tr>\n",
       "    <tr>\n",
       "      <td>288</td>\n",
       "      <td>Sierra Madre</td>\n",
       "      <td>133</td>\n",
       "    </tr>\n",
       "    <tr>\n",
       "      <td>266</td>\n",
       "      <td>San Marino</td>\n",
       "      <td>113</td>\n",
       "    </tr>\n",
       "    <tr>\n",
       "      <td>121</td>\n",
       "      <td>Hillsborough</td>\n",
       "      <td>72</td>\n",
       "    </tr>\n",
       "  </tbody>\n",
       "</table>\n",
       "</div>"
      ],
      "text/plain": [
       "                City_name  tot_cri_index\n",
       "219              Piedmont            180\n",
       "209  Palos Verdes Estates            135\n",
       "288          Sierra Madre            133\n",
       "266            San Marino            113\n",
       "121          Hillsborough             72"
      ]
     },
     "execution_count": 28,
     "metadata": {},
     "output_type": "execute_result"
    }
   ],
   "source": [
    "less_crime = df.sort_values(by='tot_cri_index',ascending=False).tail(5)\n",
    "less_crime[['City_name','tot_cri_index']]"
   ]
  },
  {
   "cell_type": "code",
   "execution_count": 29,
   "metadata": {},
   "outputs": [
    {
     "data": {
      "text/html": [
       "<div>\n",
       "<style scoped>\n",
       "    .dataframe tbody tr th:only-of-type {\n",
       "        vertical-align: middle;\n",
       "    }\n",
       "\n",
       "    .dataframe tbody tr th {\n",
       "        vertical-align: top;\n",
       "    }\n",
       "\n",
       "    .dataframe thead th {\n",
       "        text-align: right;\n",
       "    }\n",
       "</style>\n",
       "<table border=\"1\" class=\"dataframe\">\n",
       "  <thead>\n",
       "    <tr style=\"text-align: right;\">\n",
       "      <th></th>\n",
       "      <th>City_name</th>\n",
       "      <th>tot_cri_index</th>\n",
       "    </tr>\n",
       "  </thead>\n",
       "  <tbody>\n",
       "    <tr>\n",
       "      <td>121</td>\n",
       "      <td>Hillsborough</td>\n",
       "      <td>72</td>\n",
       "    </tr>\n",
       "    <tr>\n",
       "      <td>266</td>\n",
       "      <td>San Marino</td>\n",
       "      <td>113</td>\n",
       "    </tr>\n",
       "    <tr>\n",
       "      <td>288</td>\n",
       "      <td>Sierra Madre</td>\n",
       "      <td>133</td>\n",
       "    </tr>\n",
       "    <tr>\n",
       "      <td>209</td>\n",
       "      <td>Palos Verdes Estates</td>\n",
       "      <td>135</td>\n",
       "    </tr>\n",
       "    <tr>\n",
       "      <td>219</td>\n",
       "      <td>Piedmont</td>\n",
       "      <td>180</td>\n",
       "    </tr>\n",
       "  </tbody>\n",
       "</table>\n",
       "</div>"
      ],
      "text/plain": [
       "                City_name  tot_cri_index\n",
       "121          Hillsborough             72\n",
       "266            San Marino            113\n",
       "288          Sierra Madre            133\n",
       "209  Palos Verdes Estates            135\n",
       "219              Piedmont            180"
      ]
     },
     "execution_count": 29,
     "metadata": {},
     "output_type": "execute_result"
    }
   ],
   "source": [
    "less_crime = df.sort_values(by='tot_cri_index',ascending=True).head(5)\n",
    "less_crime[['City_name','tot_cri_index']]"
   ]
  },
  {
   "cell_type": "code",
   "execution_count": 30,
   "metadata": {},
   "outputs": [
    {
     "data": {
      "text/html": [
       "<div>\n",
       "<style scoped>\n",
       "    .dataframe tbody tr th:only-of-type {\n",
       "        vertical-align: middle;\n",
       "    }\n",
       "\n",
       "    .dataframe tbody tr th {\n",
       "        vertical-align: top;\n",
       "    }\n",
       "\n",
       "    .dataframe thead th {\n",
       "        text-align: right;\n",
       "    }\n",
       "</style>\n",
       "<table border=\"1\" class=\"dataframe\">\n",
       "  <thead>\n",
       "    <tr style=\"text-align: right;\">\n",
       "      <th></th>\n",
       "      <th>City_name</th>\n",
       "      <th>Popul</th>\n",
       "      <th>Cri_index</th>\n",
       "      <th>tot_cri_index</th>\n",
       "      <th>Mur_mans</th>\n",
       "      <th>For_rape</th>\n",
       "      <th>Robbery</th>\n",
       "      <th>Agg_assault</th>\n",
       "      <th>Burglary</th>\n",
       "      <th>Lar_theft</th>\n",
       "      <th>Moto_theft</th>\n",
       "      <th>Arson</th>\n",
       "    </tr>\n",
       "  </thead>\n",
       "  <tbody>\n",
       "    <tr>\n",
       "      <td>0</td>\n",
       "      <td>Adelanto</td>\n",
       "      <td>15515</td>\n",
       "      <td>361</td>\n",
       "      <td>363</td>\n",
       "      <td>2</td>\n",
       "      <td>2</td>\n",
       "      <td>5</td>\n",
       "      <td>117</td>\n",
       "      <td>120</td>\n",
       "      <td>68</td>\n",
       "      <td>47</td>\n",
       "      <td>2</td>\n",
       "    </tr>\n",
       "    <tr>\n",
       "      <td>1</td>\n",
       "      <td>Agoura Hills</td>\n",
       "      <td>21127</td>\n",
       "      <td>290</td>\n",
       "      <td>290</td>\n",
       "      <td>0</td>\n",
       "      <td>3</td>\n",
       "      <td>5</td>\n",
       "      <td>48</td>\n",
       "      <td>64</td>\n",
       "      <td>155</td>\n",
       "      <td>15</td>\n",
       "      <td>0</td>\n",
       "    </tr>\n",
       "    <tr>\n",
       "      <td>2</td>\n",
       "      <td>Alameda</td>\n",
       "      <td>79848</td>\n",
       "      <td>2933</td>\n",
       "      <td>2950</td>\n",
       "      <td>0</td>\n",
       "      <td>12</td>\n",
       "      <td>91</td>\n",
       "      <td>146</td>\n",
       "      <td>323</td>\n",
       "      <td>2022</td>\n",
       "      <td>339</td>\n",
       "      <td>17</td>\n",
       "    </tr>\n",
       "    <tr>\n",
       "      <td>3</td>\n",
       "      <td>Albany</td>\n",
       "      <td>17457</td>\n",
       "      <td>736</td>\n",
       "      <td>742</td>\n",
       "      <td>0</td>\n",
       "      <td>1</td>\n",
       "      <td>37</td>\n",
       "      <td>12</td>\n",
       "      <td>169</td>\n",
       "      <td>462</td>\n",
       "      <td>55</td>\n",
       "      <td>6</td>\n",
       "    </tr>\n",
       "    <tr>\n",
       "      <td>4</td>\n",
       "      <td>Alhambra</td>\n",
       "      <td>85356</td>\n",
       "      <td>2042</td>\n",
       "      <td>2057</td>\n",
       "      <td>4</td>\n",
       "      <td>3</td>\n",
       "      <td>165</td>\n",
       "      <td>97</td>\n",
       "      <td>372</td>\n",
       "      <td>1114</td>\n",
       "      <td>287</td>\n",
       "      <td>15</td>\n",
       "    </tr>\n",
       "  </tbody>\n",
       "</table>\n",
       "</div>"
      ],
      "text/plain": [
       "      City_name  Popul  Cri_index  tot_cri_index  Mur_mans  For_rape  Robbery  \\\n",
       "0      Adelanto  15515        361            363         2         2        5   \n",
       "1  Agoura Hills  21127        290            290         0         3        5   \n",
       "2       Alameda  79848       2933           2950         0        12       91   \n",
       "3        Albany  17457        736            742         0         1       37   \n",
       "4      Alhambra  85356       2042           2057         4         3      165   \n",
       "\n",
       "   Agg_assault  Burglary  Lar_theft  Moto_theft  Arson  \n",
       "0          117       120         68          47      2  \n",
       "1           48        64        155          15      0  \n",
       "2          146       323       2022         339     17  \n",
       "3           12       169        462          55      6  \n",
       "4           97       372       1114         287     15  "
      ]
     },
     "execution_count": 30,
     "metadata": {},
     "output_type": "execute_result"
    }
   ],
   "source": [
    "df.head()"
   ]
  },
  {
   "cell_type": "code",
   "execution_count": 32,
   "metadata": {},
   "outputs": [
    {
     "data": {
      "text/html": [
       "<div>\n",
       "<style scoped>\n",
       "    .dataframe tbody tr th:only-of-type {\n",
       "        vertical-align: middle;\n",
       "    }\n",
       "\n",
       "    .dataframe tbody tr th {\n",
       "        vertical-align: top;\n",
       "    }\n",
       "\n",
       "    .dataframe thead th {\n",
       "        text-align: right;\n",
       "    }\n",
       "</style>\n",
       "<table border=\"1\" class=\"dataframe\">\n",
       "  <thead>\n",
       "    <tr style=\"text-align: right;\">\n",
       "      <th></th>\n",
       "      <th>Total</th>\n",
       "      <th>Percentage%</th>\n",
       "    </tr>\n",
       "  </thead>\n",
       "  <tbody>\n",
       "    <tr>\n",
       "      <td>Mur_mans</td>\n",
       "      <td>1606</td>\n",
       "      <td>0.153637</td>\n",
       "    </tr>\n",
       "    <tr>\n",
       "      <td>For_rape</td>\n",
       "      <td>7502</td>\n",
       "      <td>0.717673</td>\n",
       "    </tr>\n",
       "    <tr>\n",
       "      <td>Robbery</td>\n",
       "      <td>53901</td>\n",
       "      <td>5.156397</td>\n",
       "    </tr>\n",
       "    <tr>\n",
       "      <td>Agg_assault</td>\n",
       "      <td>109341</td>\n",
       "      <td>10.460020</td>\n",
       "    </tr>\n",
       "    <tr>\n",
       "      <td>Burglary</td>\n",
       "      <td>170855</td>\n",
       "      <td>16.344709</td>\n",
       "    </tr>\n",
       "    <tr>\n",
       "      <td>Lar_theft</td>\n",
       "      <td>549295</td>\n",
       "      <td>52.547873</td>\n",
       "    </tr>\n",
       "    <tr>\n",
       "      <td>Moto_theft</td>\n",
       "      <td>142247</td>\n",
       "      <td>13.607947</td>\n",
       "    </tr>\n",
       "    <tr>\n",
       "      <td>Arson</td>\n",
       "      <td>10576</td>\n",
       "      <td>1.011745</td>\n",
       "    </tr>\n",
       "  </tbody>\n",
       "</table>\n",
       "</div>"
      ],
      "text/plain": [
       "              Total  Percentage%\n",
       "Mur_mans       1606     0.153637\n",
       "For_rape       7502     0.717673\n",
       "Robbery       53901     5.156397\n",
       "Agg_assault  109341    10.460020\n",
       "Burglary     170855    16.344709\n",
       "Lar_theft    549295    52.547873\n",
       "Moto_theft   142247    13.607947\n",
       "Arson         10576     1.011745"
      ]
     },
     "execution_count": 32,
     "metadata": {},
     "output_type": "execute_result"
    }
   ],
   "source": [
    "#What is the percentage of different crimes in the California?\n",
    "crime_list = ['Mur_mans','For_rape','Robbery','Agg_assault','Burglary','Lar_theft','Moto_theft','Arson']\n",
    "dict_total = df[crime_list].sum().to_dict()\n",
    "dt = pd.DataFrame.from_dict(dict_total,orient='index',columns=['Total'])\n",
    "dt['Percentage%'] = dt.Total*100/dt.Total.sum()\n",
    "dt"
   ]
  },
  {
   "cell_type": "code",
   "execution_count": 36,
   "metadata": {},
   "outputs": [
    {
     "data": {
      "text/plain": [
       "'Lar_theft'"
      ]
     },
     "execution_count": 36,
     "metadata": {},
     "output_type": "execute_result"
    }
   ],
   "source": [
    "#Which is the most frequently occurring crime in California?\n",
    "dt[dt.Total==dt.Total.max()].index[0]"
   ]
  },
  {
   "cell_type": "code",
   "execution_count": 39,
   "metadata": {},
   "outputs": [
    {
     "data": {
      "text/html": [
       "<div>\n",
       "<style scoped>\n",
       "    .dataframe tbody tr th:only-of-type {\n",
       "        vertical-align: middle;\n",
       "    }\n",
       "\n",
       "    .dataframe tbody tr th {\n",
       "        vertical-align: top;\n",
       "    }\n",
       "\n",
       "    .dataframe thead th {\n",
       "        text-align: right;\n",
       "    }\n",
       "</style>\n",
       "<table border=\"1\" class=\"dataframe\">\n",
       "  <thead>\n",
       "    <tr style=\"text-align: right;\">\n",
       "      <th></th>\n",
       "      <th>Total</th>\n",
       "      <th>Percentage%</th>\n",
       "    </tr>\n",
       "  </thead>\n",
       "  <tbody>\n",
       "    <tr>\n",
       "      <td>Lar_theft</td>\n",
       "      <td>408306</td>\n",
       "      <td>54.010588</td>\n",
       "    </tr>\n",
       "  </tbody>\n",
       "</table>\n",
       "</div>"
      ],
      "text/plain": [
       "            Total  Percentage%\n",
       "Lar_theft  408306    54.010588"
      ]
     },
     "execution_count": 39,
     "metadata": {},
     "output_type": "execute_result"
    }
   ],
   "source": [
    "#Which crime is frequently occuring when population is less than 5,00,000.\n",
    "df2 = df[df.Popul<500000]\n",
    "total_crime = df2[crime_list].sum().to_dict()\n",
    "dt2 = pd.DataFrame.from_dict(total_crime,orient='index',columns=['Total'])\n",
    "dt2['Percentage%'] = dt2.Total*100/dt2.Total.sum()\n",
    "dt2[dt2.Total==dt2.Total.max()]"
   ]
  },
  {
   "cell_type": "code",
   "execution_count": 44,
   "metadata": {},
   "outputs": [
    {
     "data": {
      "text/plain": [
       "('Lar_theft', 408306)"
      ]
     },
     "execution_count": 44,
     "metadata": {},
     "output_type": "execute_result"
    }
   ],
   "source": [
    "#another way\n",
    "df2 = df[df.Popul<500000]\n",
    "total_crime = df2[crime_list].sum().to_dict()\n",
    "import collections\n",
    "sorted_dict = collections.OrderedDict(total_crime)\n",
    "final = sorted(total_crime.items(),key=lambda x:x[1])\n",
    "final[-1]"
   ]
  },
  {
   "cell_type": "code",
   "execution_count": null,
   "metadata": {},
   "outputs": [],
   "source": []
  }
 ],
 "metadata": {
  "kernelspec": {
   "display_name": "Python 3",
   "language": "python",
   "name": "python3"
  },
  "language_info": {
   "codemirror_mode": {
    "name": "ipython",
    "version": 3
   },
   "file_extension": ".py",
   "mimetype": "text/x-python",
   "name": "python",
   "nbconvert_exporter": "python",
   "pygments_lexer": "ipython3",
   "version": "3.7.4"
  }
 },
 "nbformat": 4,
 "nbformat_minor": 2
}
